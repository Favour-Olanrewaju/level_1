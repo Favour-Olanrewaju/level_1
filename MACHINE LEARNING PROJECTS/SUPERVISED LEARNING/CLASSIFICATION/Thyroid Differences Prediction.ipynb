{
 "cells": [
  {
   "cell_type": "markdown",
   "id": "d2e0b4b1",
   "metadata": {},
   "source": [
    "# About Dataset\n",
    "This data set contains 13 clinicopathologic features aiming to predict recurrence of well differentiated thyroid cancer. The data set was collected in duration of 15 years and each patient was followed for at least 10 years.\n",
    "\n",
    "# Source\n",
    "The data was procured from thyroid disease datasets provided by the UCI Machine Learning Repository.\n",
    "\n",
    "# Content\n",
    "The size for the file featured within this Kaggle dataset is shown below — along with a list of attributes, and their description summaries:\n",
    "\n",
    "Age: The age of the patient at the time of diagnosis or treatment.\n",
    "\n",
    "Gender: The gender of the patient (male or female).\n",
    "\n",
    "Smoking: Whether the patient is a smoker or not.\n",
    "\n",
    "Hx Smoking: Smoking history of the patient (e.g., whether they have ever smoked).\n",
    "\n",
    "Hx Radiotherapy: History of radiotherapy treatment for any condition.\n",
    "\n",
    "Thyroid Function: The status of thyroid function, possibly indicating if there are any abnormalities.\n",
    "\n",
    "Physical Examination: Findings from a physical examination of the patient, which may include palpation of the thyroid gland and surrounding structures.\n",
    "\n",
    "Adenopathy: Presence or absence of enlarged lymph nodes (adenopathy) in the neck region.\n",
    "\n",
    "Pathology: Specific types of thyroid cancer as determined by pathology examination of biopsy samples.\n",
    "\n",
    "Focality: Whether the cancer is unifocal (limited to one location) or multifocal (present in multiple locations).\n",
    "\n",
    "Risk: The risk category of the cancer based on various factors, such as tumor size, extent of spread, and histological type.\n",
    "\n",
    "T: Tumor classification based on its size and extent of invasion into nearby structures.\n",
    "\n",
    "N: Nodal classification indicating the involvement of lymph nodes.\n",
    "\n",
    "M: Metastasis classification indicating the presence or absence of distant metastases.\n",
    "\n",
    "Stage: The overall stage of the cancer, typically determined by combining T, N, and M classifications.\n",
    "\n",
    "Response: Response to treatment, indicating whether the cancer responded positively, negatively, or remained stable after treatment.\n",
    "\n",
    "Recurred: Indicates whether the cancer has recurred after initial treatment."
   ]
  },
  {
   "cell_type": "markdown",
   "id": "2bc11b08",
   "metadata": {},
   "source": [
    "# The Ml prediction is to predict whether the thyroid will recurred[to happen again periodically] after all the treatment"
   ]
  },
  {
   "cell_type": "code",
   "execution_count": 1,
   "id": "b46d243b",
   "metadata": {},
   "outputs": [],
   "source": [
    "import numpy as np\n",
    "import pandas as pd\n",
    "import matplotlib \n",
    "import matplotlib.pyplot as plt\n",
    "import seaborn as sns\n",
    "\n"
   ]
  },
  {
   "cell_type": "code",
   "execution_count": 2,
   "id": "acb1f51c",
   "metadata": {},
   "outputs": [
    {
     "name": "stdout",
     "output_type": "stream",
     "text": [
      "<class 'pandas.core.frame.DataFrame'>\n",
      "RangeIndex: 383 entries, 0 to 382\n",
      "Data columns (total 17 columns):\n",
      " #   Column                Non-Null Count  Dtype \n",
      "---  ------                --------------  ----- \n",
      " 0   Age                   383 non-null    int64 \n",
      " 1   Gender                383 non-null    object\n",
      " 2   Smoking               383 non-null    object\n",
      " 3   Hx Smoking            383 non-null    object\n",
      " 4   Hx Radiothreapy       383 non-null    object\n",
      " 5   Thyroid Function      383 non-null    object\n",
      " 6   Physical Examination  383 non-null    object\n",
      " 7   Adenopathy            383 non-null    object\n",
      " 8   Pathology             383 non-null    object\n",
      " 9   Focality              383 non-null    object\n",
      " 10  Risk                  383 non-null    object\n",
      " 11  T                     383 non-null    object\n",
      " 12  N                     383 non-null    object\n",
      " 13  M                     383 non-null    object\n",
      " 14  Stage                 383 non-null    object\n",
      " 15  Response              383 non-null    object\n",
      " 16  Recurred              383 non-null    object\n",
      "dtypes: int64(1), object(16)\n",
      "memory usage: 51.0+ KB\n"
     ]
    }
   ],
   "source": [
    "Data = pd.read_csv(\"C:\\Thyroid_Diff.csv\")\n",
    "Data.info()"
   ]
  },
  {
   "cell_type": "code",
   "execution_count": 3,
   "id": "ecb8afd6",
   "metadata": {},
   "outputs": [
    {
     "data": {
      "text/html": [
       "<div>\n",
       "<style scoped>\n",
       "    .dataframe tbody tr th:only-of-type {\n",
       "        vertical-align: middle;\n",
       "    }\n",
       "\n",
       "    .dataframe tbody tr th {\n",
       "        vertical-align: top;\n",
       "    }\n",
       "\n",
       "    .dataframe thead th {\n",
       "        text-align: right;\n",
       "    }\n",
       "</style>\n",
       "<table border=\"1\" class=\"dataframe\">\n",
       "  <thead>\n",
       "    <tr style=\"text-align: right;\">\n",
       "      <th></th>\n",
       "      <th>Age</th>\n",
       "      <th>Gender</th>\n",
       "      <th>Smoking</th>\n",
       "      <th>Hx_Radiothreapy</th>\n",
       "      <th>Thyroid_Function</th>\n",
       "      <th>Physical_Examination</th>\n",
       "      <th>Adenopathy</th>\n",
       "      <th>Pathology</th>\n",
       "      <th>Focality</th>\n",
       "      <th>Risk</th>\n",
       "      <th>Stage</th>\n",
       "      <th>Response</th>\n",
       "      <th>Recurred</th>\n",
       "    </tr>\n",
       "  </thead>\n",
       "  <tbody>\n",
       "    <tr>\n",
       "      <th>0</th>\n",
       "      <td>27</td>\n",
       "      <td>F</td>\n",
       "      <td>No</td>\n",
       "      <td>No</td>\n",
       "      <td>Euthyroid</td>\n",
       "      <td>Single nodular goiter-left</td>\n",
       "      <td>No</td>\n",
       "      <td>Micropapillary</td>\n",
       "      <td>Uni-Focal</td>\n",
       "      <td>Low</td>\n",
       "      <td>I</td>\n",
       "      <td>Indeterminate</td>\n",
       "      <td>No</td>\n",
       "    </tr>\n",
       "    <tr>\n",
       "      <th>1</th>\n",
       "      <td>34</td>\n",
       "      <td>F</td>\n",
       "      <td>No</td>\n",
       "      <td>No</td>\n",
       "      <td>Euthyroid</td>\n",
       "      <td>Multinodular goiter</td>\n",
       "      <td>No</td>\n",
       "      <td>Micropapillary</td>\n",
       "      <td>Uni-Focal</td>\n",
       "      <td>Low</td>\n",
       "      <td>I</td>\n",
       "      <td>Excellent</td>\n",
       "      <td>No</td>\n",
       "    </tr>\n",
       "    <tr>\n",
       "      <th>2</th>\n",
       "      <td>30</td>\n",
       "      <td>F</td>\n",
       "      <td>No</td>\n",
       "      <td>No</td>\n",
       "      <td>Euthyroid</td>\n",
       "      <td>Single nodular goiter-right</td>\n",
       "      <td>No</td>\n",
       "      <td>Micropapillary</td>\n",
       "      <td>Uni-Focal</td>\n",
       "      <td>Low</td>\n",
       "      <td>I</td>\n",
       "      <td>Excellent</td>\n",
       "      <td>No</td>\n",
       "    </tr>\n",
       "    <tr>\n",
       "      <th>3</th>\n",
       "      <td>62</td>\n",
       "      <td>F</td>\n",
       "      <td>No</td>\n",
       "      <td>No</td>\n",
       "      <td>Euthyroid</td>\n",
       "      <td>Single nodular goiter-right</td>\n",
       "      <td>No</td>\n",
       "      <td>Micropapillary</td>\n",
       "      <td>Uni-Focal</td>\n",
       "      <td>Low</td>\n",
       "      <td>I</td>\n",
       "      <td>Excellent</td>\n",
       "      <td>No</td>\n",
       "    </tr>\n",
       "    <tr>\n",
       "      <th>4</th>\n",
       "      <td>62</td>\n",
       "      <td>F</td>\n",
       "      <td>No</td>\n",
       "      <td>No</td>\n",
       "      <td>Euthyroid</td>\n",
       "      <td>Multinodular goiter</td>\n",
       "      <td>No</td>\n",
       "      <td>Micropapillary</td>\n",
       "      <td>Multi-Focal</td>\n",
       "      <td>Low</td>\n",
       "      <td>I</td>\n",
       "      <td>Excellent</td>\n",
       "      <td>No</td>\n",
       "    </tr>\n",
       "  </tbody>\n",
       "</table>\n",
       "</div>"
      ],
      "text/plain": [
       "   Age Gender Smoking Hx_Radiothreapy Thyroid_Function  \\\n",
       "0   27      F      No              No        Euthyroid   \n",
       "1   34      F      No              No        Euthyroid   \n",
       "2   30      F      No              No        Euthyroid   \n",
       "3   62      F      No              No        Euthyroid   \n",
       "4   62      F      No              No        Euthyroid   \n",
       "\n",
       "          Physical_Examination Adenopathy       Pathology     Focality Risk  \\\n",
       "0   Single nodular goiter-left         No  Micropapillary    Uni-Focal  Low   \n",
       "1          Multinodular goiter         No  Micropapillary    Uni-Focal  Low   \n",
       "2  Single nodular goiter-right         No  Micropapillary    Uni-Focal  Low   \n",
       "3  Single nodular goiter-right         No  Micropapillary    Uni-Focal  Low   \n",
       "4          Multinodular goiter         No  Micropapillary  Multi-Focal  Low   \n",
       "\n",
       "  Stage       Response Recurred  \n",
       "0     I  Indeterminate       No  \n",
       "1     I      Excellent       No  \n",
       "2     I      Excellent       No  \n",
       "3     I      Excellent       No  \n",
       "4     I      Excellent       No  "
      ]
     },
     "execution_count": 3,
     "metadata": {},
     "output_type": "execute_result"
    }
   ],
   "source": [
    "Data = Data.rename(columns = {'Hx Radiothreapy':'Hx_Radiothreapy', 'Thyroid Function':'Thyroid_Function', 'Physical Examination':'Physical_Examination'})\n",
    "Data.drop(columns=['Hx Smoking','T','N','M'], inplace=True)\n",
    "Data.head()"
   ]
  },
  {
   "cell_type": "code",
   "execution_count": 4,
   "id": "42e356ee",
   "metadata": {},
   "outputs": [
    {
     "data": {
      "text/plain": [
       "array(['No', 'Yes'], dtype=object)"
      ]
     },
     "execution_count": 4,
     "metadata": {},
     "output_type": "execute_result"
    }
   ],
   "source": [
    "Data.Recurred.unique()"
   ]
  },
  {
   "cell_type": "code",
   "execution_count": 5,
   "id": "9f30e4a0",
   "metadata": {},
   "outputs": [
    {
     "data": {
      "text/plain": [
       "Index(['Age', 'Gender', 'Smoking', 'Hx_Radiothreapy', 'Thyroid_Function',\n",
       "       'Physical_Examination', 'Adenopathy', 'Pathology', 'Focality', 'Risk',\n",
       "       'Stage', 'Response', 'Recurred'],\n",
       "      dtype='object')"
      ]
     },
     "execution_count": 5,
     "metadata": {},
     "output_type": "execute_result"
    }
   ],
   "source": [
    "# Data.Thyroid Function.unique()\n",
    "Data.columns"
   ]
  },
  {
   "cell_type": "code",
   "execution_count": 6,
   "id": "ec6604e3",
   "metadata": {},
   "outputs": [
    {
     "data": {
      "text/plain": [
       "Age                     False\n",
       "Gender                  False\n",
       "Smoking                 False\n",
       "Hx_Radiothreapy         False\n",
       "Thyroid_Function        False\n",
       "Physical_Examination    False\n",
       "Adenopathy              False\n",
       "Pathology               False\n",
       "Focality                False\n",
       "Risk                    False\n",
       "Stage                   False\n",
       "Response                False\n",
       "Recurred                False\n",
       "dtype: bool"
      ]
     },
     "execution_count": 6,
     "metadata": {},
     "output_type": "execute_result"
    }
   ],
   "source": [
    "# checking for missing value\n",
    "Data[Data.isnull()].any()"
   ]
  },
  {
   "cell_type": "code",
   "execution_count": 7,
   "id": "3211eaf9",
   "metadata": {},
   "outputs": [
    {
     "data": {
      "text/plain": [
       "(383, 13)"
      ]
     },
     "execution_count": 7,
     "metadata": {},
     "output_type": "execute_result"
    }
   ],
   "source": [
    "# shape of the dataset\n",
    "Data.shape"
   ]
  },
  {
   "cell_type": "code",
   "execution_count": 8,
   "id": "e0ed22bf",
   "metadata": {},
   "outputs": [],
   "source": [
    "X = Data.drop(columns=[\"Recurred\"])  #feature\n",
    "y = Data[\"Recurred\"] #target\n",
    "\n",
    "# preprocessing categorical features and target variable\n",
    "from sklearn.preprocessing import LabelEncoder\n",
    "encoder = LabelEncoder() \n",
    "\n",
    "# features[X]\n",
    "X_cat = X.select_dtypes(include=['object']).columns\n",
    "for items in X_cat:   #(to iterate over all the features columns since they're  more than 1(we have 11 cat columns, 1 num column))\n",
    "    X[items] = encoder.fit_transform(X[items])\n",
    "# X\n",
    "\n",
    "# target[y]\n",
    "y = encoder.fit_transform(y)\n",
    "# y\n",
    "# X"
   ]
  },
  {
   "cell_type": "code",
   "execution_count": 9,
   "id": "2ef34c20",
   "metadata": {},
   "outputs": [],
   "source": [
    "# splitting into train and test set\n",
    "from sklearn.model_selection import train_test_split\n",
    "Xtrain, Xtest, ytrain, ytest = train_test_split(X, y, train_size=0.8, random_state=42)\n",
    "\n",
    "# standardizing numerical features\n",
    "from sklearn.preprocessing import StandardScaler\n",
    "scaler = StandardScaler()\n",
    "Xtrain_scaled = scaler.fit_transform(Xtrain)\n",
    "Xtest_scaled = scaler.transform(Xtest)\n",
    "\n",
    "# j = pd.DataFrame(Xtest_scaled)\n",
    "# j"
   ]
  },
  {
   "cell_type": "code",
   "execution_count": 12,
   "id": "dbf56c4e",
   "metadata": {},
   "outputs": [
    {
     "name": "stdout",
     "output_type": "stream",
     "text": [
      "score: 0.9248366013071896\n",
      "              precision    recall  f1-score   support\n",
      "\n",
      "           0       0.94      1.00      0.97        58\n",
      "           1       1.00      0.79      0.88        19\n",
      "\n",
      "    accuracy                           0.95        77\n",
      "   macro avg       0.97      0.89      0.92        77\n",
      "weighted avg       0.95      0.95      0.95        77\n",
      "\n"
     ]
    }
   ],
   "source": [
    "from sklearn.linear_model import LogisticRegression \n",
    "regression = LogisticRegression(random_state=42)\n",
    "regression.fit(Xtrain_scaled, ytrain)\n",
    "\n",
    "y_pred = regression.predict(Xtest_scaled)\n",
    "# print('prediction:', y_pred)\n",
    "# print('actual:', ytest)\n",
    "\n",
    "from sklearn.metrics import classification_report, accuracy_score\n",
    "score = regression.score(Xtrain_scaled, ytrain)\n",
    "print('score:', score)\n",
    "\n",
    "report = classification_report(ytest, y_pred)\n",
    "print(report)\n"
   ]
  },
  {
   "cell_type": "code",
   "execution_count": 11,
   "id": "5c8869e8",
   "metadata": {},
   "outputs": [
    {
     "data": {
      "image/png": "[encoded data removed]",
      "text/plain": [
       "<Figure size 640x480 with 1 Axes>"
      ]
     },
     "metadata": {},
     "output_type": "display_data"
    }
   ],
   "source": [
    "from sklearn.metrics import confusion_matrix\n",
    "import seaborn as sns\n",
    "mat = confusion_matrix(ytest, y_pred)\n",
    "sns.heatmap(mat, square=True, annot=True, cbar=False)\n",
    "plt.xlabel('predicted value')\n",
    "plt.ylabel('true value');"
   ]
  },
  {
   "cell_type": "code",
   "execution_count": null,
   "id": "69e73860",
   "metadata": {},
   "outputs": [],
   "source": []
  },
  {
   "cell_type": "code",
   "execution_count": null,
   "id": "6408bf3a",
   "metadata": {},
   "outputs": [],
   "source": []
  },
  {
   "cell_type": "code",
   "execution_count": null,
   "id": "54f1cbad",
   "metadata": {},
   "outputs": [],
   "source": []
  },
  {
   "cell_type": "code",
   "execution_count": null,
   "id": "9d778773",
   "metadata": {},
   "outputs": [],
   "source": []
  },
  {
   "cell_type": "code",
   "execution_count": null,
   "id": "fc376189",
   "metadata": {},
   "outputs": [],
   "source": []
  },
  {
   "cell_type": "code",
   "execution_count": null,
   "id": "b18c27ba",
   "metadata": {},
   "outputs": [],
   "source": []
  }
 ],
 "metadata": {
  "kernelspec": {
   "display_name": "Python 3 (ipykernel)",
   "language": "python",
   "name": "python3"
  },
  "language_info": {
   "codemirror_mode": {
    "name": "ipython",
    "version": 3
   },
   "file_extension": ".py",
   "mimetype": "text/x-python",
   "name": "python",
   "nbconvert_exporter": "python",
   "pygments_lexer": "ipython3",
   "version": "3.11.5"
  }
 },
 "nbformat": 4,
 "nbformat_minor": 5
}
