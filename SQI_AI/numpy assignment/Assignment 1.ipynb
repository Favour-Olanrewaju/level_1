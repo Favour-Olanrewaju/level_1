{
 "cells": [
  {
   "cell_type": "code",
   "execution_count": 1,
   "id": "7e9ee3b6",
   "metadata": {},
   "outputs": [],
   "source": [
    "import numpy as np"
   ]
  },
  {
   "cell_type": "markdown",
   "id": "422d3748",
   "metadata": {},
   "source": [
    "Assignment 1 Generate an np array of (a) vector of lenght 50 (b) two dimension of shape 5x4. Both uniformly distributed between 0 and 1 Split the two dimension array in 1 above into three arrays taking the first two rows, follow by the next two rows and put the remaining row in another variable Split the vector in 1 above into three arrays by taking the first 15, follow by the next 20 and the remaining into another variable. Create a 4x5 array: (a). Using manual method (b). Using randomly generated value between 0 and 1 (c). Using array of ones\n",
    "\n",
    "Generate an np array of (a) vector of length 50 uniformly distributed between 0 and 1"
   ]
  },
  {
   "cell_type": "code",
   "execution_count": 2,
   "id": "1baaf92e",
   "metadata": {},
   "outputs": [
    {
     "data": {
      "text/plain": [
       "array([0.62150824, 0.28304169, 0.12224934, 0.21570277, 0.47438687,\n",
       "       0.47185698, 0.32967086, 0.5832257 , 0.7574852 , 0.55269416,\n",
       "       0.86865326, 0.1793716 , 0.4292677 , 0.05275237, 0.85192012,\n",
       "       0.91983031, 0.64860384, 0.57632823, 0.96227744, 0.42538378,\n",
       "       0.39167557, 0.91711237, 0.78143455, 0.86339738, 0.28229575,\n",
       "       0.78730083, 0.31612627, 0.56569004, 0.6855477 , 0.41579283,\n",
       "       0.32797676, 0.68892302, 0.76175278, 0.77791813, 0.50010152,\n",
       "       0.81053987, 0.21934388, 0.89092345, 0.85566247, 0.72353874,\n",
       "       0.79695889, 0.89154447, 0.35879213, 0.28353568, 0.19554678,\n",
       "       0.29405882, 0.41532967, 0.83775478, 0.89854429, 0.02382529])"
      ]
     },
     "execution_count": 2,
     "metadata": {},
     "output_type": "execute_result"
    }
   ],
   "source": [
    "vector = np.random.rand(50)\n",
    "vector"
   ]
  },
  {
   "cell_type": "markdown",
   "id": "6d4d1679",
   "metadata": {},
   "source": [
    "# A 2 dimension array of shape 5 by 4 uniformly distributed between 0 and 1"
   ]
  },
  {
   "cell_type": "code",
   "execution_count": 3,
   "id": "61ba43eb",
   "metadata": {},
   "outputs": [
    {
     "data": {
      "text/plain": [
       "array([[0.73982652, 0.5219696 , 0.25982114, 0.47946682],\n",
       "       [0.37976196, 0.73614115, 0.70837939, 0.28739631],\n",
       "       [0.68418954, 0.89201094, 0.34206431, 0.17584544],\n",
       "       [0.04272606, 0.48313168, 0.5709098 , 0.93302089],\n",
       "       [0.72435445, 0.4608028 , 0.42470505, 0.36663105]])"
      ]
     },
     "execution_count": 3,
     "metadata": {},
     "output_type": "execute_result"
    }
   ],
   "source": [
    "dim_2_array = np.random.rand(5,4)\n",
    "dim_2_array"
   ]
  },
  {
   "cell_type": "markdown",
   "id": "4c03da6a",
   "metadata": {},
   "source": [
    "# Split the 2D array into three arrays"
   ]
  },
  {
   "cell_type": "code",
   "execution_count": 4,
   "id": "cc59b661",
   "metadata": {},
   "outputs": [
    {
     "name": "stdout",
     "output_type": "stream",
     "text": [
      "First two rows [[0.73982652 0.5219696  0.25982114 0.47946682]\n",
      " [0.37976196 0.73614115 0.70837939 0.28739631]] \n",
      "\n",
      "Next two rows [[0.68418954 0.89201094 0.34206431 0.17584544]\n",
      " [0.04272606 0.48313168 0.5709098  0.93302089]] \n",
      "\n",
      "Remaining rows [[0.72435445 0.4608028  0.42470505 0.36663105]] \n",
      "\n"
     ]
    }
   ],
   "source": [
    "x1, x2, x3 = np.split(dim_2_array,(2,4))\n",
    "# print(x1, x2, x3)\n",
    "print('First two rows', x1, \"\\n\")\n",
    "print('Next two rows', x2 ,\"\\n\")\n",
    "print('Remaining rows', x3, \"\\n\")"
   ]
  },
  {
   "cell_type": "code",
   "execution_count": 5,
   "id": "bb64a1ff",
   "metadata": {},
   "outputs": [
    {
     "name": "stdout",
     "output_type": "stream",
     "text": [
      "First 15 [0.62150824 0.28304169 0.12224934 0.21570277 0.47438687 0.47185698\n",
      " 0.32967086 0.5832257  0.7574852  0.55269416 0.86865326 0.1793716\n",
      " 0.4292677  0.05275237 0.85192012] \n",
      "\n",
      "Next 20 [0.91983031 0.64860384 0.57632823 0.96227744 0.42538378 0.39167557\n",
      " 0.91711237 0.78143455 0.86339738 0.28229575 0.78730083 0.31612627\n",
      " 0.56569004 0.6855477  0.41579283 0.32797676 0.68892302 0.76175278\n",
      " 0.77791813 0.50010152] \n",
      "\n",
      "Remaining rows [0.81053987 0.21934388 0.89092345 0.85566247 0.72353874 0.79695889\n",
      " 0.89154447 0.35879213 0.28353568 0.19554678 0.29405882 0.41532967\n",
      " 0.83775478 0.89854429 0.02382529] \n",
      "\n"
     ]
    }
   ],
   "source": [
    "z1, z2, z3 = np.split(vector,(15,35))\n",
    "# print(z1, z2,z3)\n",
    "print('First 15', z1, \"\\n\")\n",
    "print('Next 20', z2 ,\"\\n\")\n",
    "print('Remaining rows', z3, \"\\n\")"
   ]
  },
  {
   "cell_type": "markdown",
   "id": "ed8cb232",
   "metadata": {},
   "source": [
    "# Create a 4x5 array: (a). Using manual method\n"
   ]
  },
  {
   "cell_type": "code",
   "execution_count": 6,
   "id": "009f8a74",
   "metadata": {},
   "outputs": [
    {
     "data": {
      "text/plain": [
       "array([[ 1,  2,  3,  4,  5],\n",
       "       [ 6,  7,  8,  9, 10],\n",
       "       [11, 12, 13, 14, 15],\n",
       "       [16, 17, 18, 19, 20]])"
      ]
     },
     "execution_count": 6,
     "metadata": {},
     "output_type": "execute_result"
    }
   ],
   "source": [
    "dim = np.array([[1,2,3,4,5],[6,7,8,9,10],[11,12,13,14,15],[16,17,18,19,20]])\n",
    "dim"
   ]
  },
  {
   "cell_type": "markdown",
   "id": "78bfae8e",
   "metadata": {},
   "source": [
    "Create a 4x5 array:(b) Using randomly generated value"
   ]
  },
  {
   "cell_type": "code",
   "execution_count": 7,
   "id": "74d23cac",
   "metadata": {},
   "outputs": [
    {
     "data": {
      "text/plain": [
       "array([[0, 0, 1, 1, 0],\n",
       "       [0, 0, 0, 1, 0],\n",
       "       [1, 1, 0, 0, 0],\n",
       "       [1, 1, 1, 0, 1]])"
      ]
     },
     "execution_count": 7,
     "metadata": {},
     "output_type": "execute_result"
    }
   ],
   "source": [
    "value = np.random.randint(0,2,(4,5))\n",
    "value"
   ]
  },
  {
   "cell_type": "markdown",
   "id": "782524ba",
   "metadata": {},
   "source": [
    "Create a 4x5 array: (c). Using array of ones"
   ]
  },
  {
   "cell_type": "code",
   "execution_count": 8,
   "id": "fde4436c",
   "metadata": {},
   "outputs": [
    {
     "data": {
      "text/plain": [
       "array([[1., 1., 1., 1., 1.],\n",
       "       [1., 1., 1., 1., 1.],\n",
       "       [1., 1., 1., 1., 1.],\n",
       "       [1., 1., 1., 1., 1.]])"
      ]
     },
     "execution_count": 8,
     "metadata": {},
     "output_type": "execute_result"
    }
   ],
   "source": [
    "arr_ones = np.ones([4,5])\n",
    "arr_ones"
   ]
  },
  {
   "cell_type": "code",
   "execution_count": null,
   "id": "d1811ff6",
   "metadata": {},
   "outputs": [],
   "source": []
  }
 ],
 "metadata": {
  "kernelspec": {
   "display_name": "Python 3 (ipykernel)",
   "language": "python",
   "name": "python3"
  },
  "language_info": {
   "codemirror_mode": {
    "name": "ipython",
    "version": 3
   },
   "file_extension": ".py",
   "mimetype": "text/x-python",
   "name": "python",
   "nbconvert_exporter": "python",
   "pygments_lexer": "ipython3",
   "version": "3.11.5"
  }
 },
 "nbformat": 4,
 "nbformat_minor": 5
}
