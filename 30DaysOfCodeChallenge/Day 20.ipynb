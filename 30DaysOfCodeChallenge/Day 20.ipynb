{
 "cells": [
  {
   "cell_type": "markdown",
   "id": "50a8f21d",
   "metadata": {},
   "source": [
    "# Day20:Cross-Validation Techniques"
   ]
  },
  {
   "cell_type": "code",
   "execution_count": 1,
   "id": "8072832a",
   "metadata": {},
   "outputs": [
    {
     "name": "stdout",
     "output_type": "stream",
     "text": [
      "Cross-validation scores: [1.         0.96666667 0.93333333 0.93333333 0.96666667]\n",
      "Average accuracy: 0.9600000000000002\n"
     ]
    }
   ],
   "source": [
    "from sklearn.model_selection import cross_val_score, KFold\n",
    "from sklearn.ensemble import RandomForestClassifier\n",
    "from sklearn.datasets import load_iris\n",
    "import numpy as np\n",
    "\n",
    "# Load dataset\n",
    "data = load_iris()\n",
    "X = data.data\n",
    "y = data.target\n",
    "\n",
    "# Define model\n",
    "rf = RandomForestClassifier(random_state=42)\n",
    "\n",
    "# Define K-Fold cross-validation with 5 folds\n",
    "kf = KFold(n_splits=5, shuffle=True, random_state=42)\n",
    "\n",
    "# Perform cross-validation\n",
    "cv_scores = cross_val_score(rf, X, y, cv=kf, scoring='accuracy')\n",
    "\n",
    "# Output the results\n",
    "print(\"Cross-validation scores:\", cv_scores)\n",
    "print(\"Average accuracy:\", np.mean(cv_scores))\n"
   ]
  },
  {
   "cell_type": "markdown",
   "id": "19f75ff6",
   "metadata": {},
   "source": [
    "1. Explanation of Cross-Validation Techniques\n",
    "Cross-validation is a model evaluation technique that involves partitioning the dataset into subsets to test and train the model multiple times. This helps assess the model’s performance and generalizability on different data splits, reducing the risk of overfitting or underfitting.\n",
    "\n",
    "Types of Cross-Validation:\n",
    "K-Fold Cross-Validation: The dataset is split into K equal-sized folds. The model is trained on K-1 folds and tested on the remaining fold. This is repeated K times, with each fold serving as the test set once.\n",
    "Stratified K-Fold Cross-Validation: A variation of K-fold where the distribution of target classes is preserved in each fold, ensuring each fold has a representative distribution of the target variable.\n",
    "Leave-One-Out Cross-Validation (LOOCV): Each data point is used as a test set once, and the model is trained on all other data points. This is computationally expensive for large datasets.\n",
    "Leave-P-Out Cross-Validation: Similar to LOOCV, but instead of leaving one out, p data points are left out in each iteration.\n",
    "Shuffle Split: The dataset is shuffled and split into training and test sets multiple times. Unlike K-fold, the test set size remains constant, but the data is split randomly each time.\n",
    "2. Importance of Cross-Validation in ML\n",
    "Cross-validation is important for:\n",
    "\n",
    "Generalization: It helps evaluate the model’s ability to perform on unseen data by training on different subsets and testing on others.\n",
    "Reducing Overfitting: Since the model is trained and tested on multiple splits, it reduces the chance of the model being overly tuned to a single data subset.\n",
    "Reliable Performance Estimation: By averaging the performance metrics across several folds, cross-validation provides a more reliable estimate of a model's true performance.\n",
    "Without cross-validation, we might end up with biased performance estimates based on a single train-test split, which could lead to misleading results.\n",
    "\n",
    "#100DaysOfCodeDay20 #CrossValidation #MachineLearning"
   ]
  },
  {
   "cell_type": "code",
   "execution_count": null,
   "id": "e11e08c2",
   "metadata": {},
   "outputs": [],
   "source": []
  }
 ],
 "metadata": {
  "kernelspec": {
   "display_name": "Python 3 (ipykernel)",
   "language": "python",
   "name": "python3"
  },
  "language_info": {
   "codemirror_mode": {
    "name": "ipython",
    "version": 3
   },
   "file_extension": ".py",
   "mimetype": "text/x-python",
   "name": "python",
   "nbconvert_exporter": "python",
   "pygments_lexer": "ipython3",
   "version": "3.11.5"
  }
 },
 "nbformat": 4,
 "nbformat_minor": 5
}
