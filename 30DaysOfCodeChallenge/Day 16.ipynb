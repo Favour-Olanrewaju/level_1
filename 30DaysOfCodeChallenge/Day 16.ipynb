{
 "cells": [
  {
   "cell_type": "markdown",
   "id": "290e80c0",
   "metadata": {},
   "source": [
    "# Day 16: Natural Language Processing (NLP)"
   ]
  },
  {
   "cell_type": "code",
   "execution_count": 1,
   "id": "33fcbdf9",
   "metadata": {},
   "outputs": [],
   "source": [
    "import numpy as np\n",
    "import pandas as pd\n"
   ]
  },
  {
   "cell_type": "code",
   "execution_count": 3,
   "id": "96278b6c",
   "metadata": {},
   "outputs": [
    {
     "name": "stdout",
     "output_type": "stream",
     "text": [
      "Vocabulary: {'love': 5, 'machine': 6, 'learning': 4, 'nlp': 7, 'is': 2, 'amazing': 0, 'understanding': 8, 'language': 3, 'fascinating': 1}\n",
      "Vectorized Text: [[0 0 0 0 1 1 1 0 0]\n",
      " [1 0 1 0 0 0 0 1 0]\n",
      " [0 1 1 1 0 0 0 0 1]]\n"
     ]
    }
   ],
   "source": [
    "from sklearn.feature_extraction.text import CountVectorizer\n",
    "\n",
    "# Sample Text Data\n",
    "texts = [\"I love machine learning!\", \"NLP is amazing.\", \"Understanding language is fascinating.\"]\n",
    "\n",
    "# Text Vectorization\n",
    "vectorizer = CountVectorizer()\n",
    "vectorized_text = vectorizer.fit_transform(texts)\n",
    "\n",
    "print(\"Vocabulary:\", vectorizer.vocabulary_)\n",
    "print(\"Vectorized Text:\", vectorized_text.toarray())"
   ]
  },
  {
   "cell_type": "code",
   "execution_count": 5,
   "id": "20211f1f",
   "metadata": {},
   "outputs": [
    {
     "data": {
      "text/html": [
       "<div>\n",
       "<style scoped>\n",
       "    .dataframe tbody tr th:only-of-type {\n",
       "        vertical-align: middle;\n",
       "    }\n",
       "\n",
       "    .dataframe tbody tr th {\n",
       "        vertical-align: top;\n",
       "    }\n",
       "\n",
       "    .dataframe thead th {\n",
       "        text-align: right;\n",
       "    }\n",
       "</style>\n",
       "<table border=\"1\" class=\"dataframe\">\n",
       "  <thead>\n",
       "    <tr style=\"text-align: right;\">\n",
       "      <th></th>\n",
       "      <th>evil</th>\n",
       "      <th>horizon</th>\n",
       "      <th>of</th>\n",
       "      <th>problem</th>\n",
       "      <th>queen</th>\n",
       "    </tr>\n",
       "  </thead>\n",
       "  <tbody>\n",
       "    <tr>\n",
       "      <th>0</th>\n",
       "      <td>0.517856</td>\n",
       "      <td>0.000000</td>\n",
       "      <td>0.680919</td>\n",
       "      <td>0.517856</td>\n",
       "      <td>0.000000</td>\n",
       "    </tr>\n",
       "    <tr>\n",
       "      <th>1</th>\n",
       "      <td>0.605349</td>\n",
       "      <td>0.000000</td>\n",
       "      <td>0.000000</td>\n",
       "      <td>0.000000</td>\n",
       "      <td>0.795961</td>\n",
       "    </tr>\n",
       "    <tr>\n",
       "      <th>2</th>\n",
       "      <td>0.000000</td>\n",
       "      <td>0.795961</td>\n",
       "      <td>0.000000</td>\n",
       "      <td>0.605349</td>\n",
       "      <td>0.000000</td>\n",
       "    </tr>\n",
       "  </tbody>\n",
       "</table>\n",
       "</div>"
      ],
      "text/plain": [
       "       evil   horizon        of   problem     queen\n",
       "0  0.517856  0.000000  0.680919  0.517856  0.000000\n",
       "1  0.605349  0.000000  0.000000  0.000000  0.795961\n",
       "2  0.000000  0.795961  0.000000  0.605349  0.000000"
      ]
     },
     "execution_count": 5,
     "metadata": {},
     "output_type": "execute_result"
    }
   ],
   "source": [
    "# Text Features\n",
    "# One of the simplest methods of encoding data is by word counts: you take each snippet of text,\n",
    "# count the occurrences of each word within it, and put the results in a table. For example:\n",
    "sample = ['problem of evil', 'evil queen', 'horizon problem']\n",
    "\n",
    "# For a vectorization of this data based on word count, we could construct a column\n",
    "# representing the word “problem,” the word “evil,” the word “horizon,” and so on. by using \n",
    "# ScikitLearn’s CountVectorizer:\n",
    "from sklearn.feature_extraction.text import CountVectorizer\n",
    "vec = CountVectorizer()\n",
    "X = vec.fit_transform(sample)\n",
    "X\n",
    "\n",
    "# it is easier to inspect if we convert this to a DataFrame with labeled columns:\n",
    "import pandas as pd\n",
    "pd.DataFrame(X.toarray(), columns=vec.get_feature_names_out())\n",
    "\n",
    "# We can optimize this output using frequency–inverse document frequency (TF–IDF), \n",
    "# which weights the word counts by a measure of how often they appear in the documents\n",
    "from sklearn.feature_extraction.text import TfidfVectorizer\n",
    "vec = TfidfVectorizer()\n",
    "X = vec.fit_transform(sample)\n",
    "pd.DataFrame(X.toarray(), columns=vec.get_feature_names_out())"
   ]
  },
  {
   "cell_type": "code",
   "execution_count": null,
   "id": "200db2af",
   "metadata": {},
   "outputs": [],
   "source": [
    "Day 16: Natural Language Processing (NLP)\n",
    "\n",
    "Definition:\n",
    "\n",
    "Natural Language Processing (NLP) is a branch of artificial intelligence that focuses on enabling computers to understand, interpret, and generate human language. It bridges the gap between human communication and machine understanding, making it possible for machines to process and analyze vast amounts of natural language data.\n",
    "\n",
    "Importance in Machine Learning:\n",
    "\n",
    "Text Analysis: NLP plays a crucial role in extracting meaningful insights from unstructured text data, which constitutes the majority of data generated daily.\n",
    "\n",
    "Applications Across Industries: From chatbots and virtual assistants to sentiment analysis, machine translation, and fraud detection, NLP has wide-ranging applications in various domains.\n",
    "\n",
    "Enhanced User Experience: By powering tools like voice recognition and auto-suggestions, NLP improves the way users interact with technology.\n",
    "\n",
    "Facilitates Automation: Automating processes like content moderation and document summarization saves time and reduces manual effort."
   ]
  }
 ],
 "metadata": {
  "kernelspec": {
   "display_name": "Python 3 (ipykernel)",
   "language": "python",
   "name": "python3"
  },
  "language_info": {
   "codemirror_mode": {
    "name": "ipython",
    "version": 3
   },
   "file_extension": ".py",
   "mimetype": "text/x-python",
   "name": "python",
   "nbconvert_exporter": "python",
   "pygments_lexer": "ipython3",
   "version": "3.11.5"
  }
 },
 "nbformat": 4,
 "nbformat_minor": 5
}
