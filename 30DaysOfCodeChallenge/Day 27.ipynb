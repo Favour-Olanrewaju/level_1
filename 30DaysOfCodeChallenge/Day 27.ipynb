{
 "cells": [
  {
   "cell_type": "markdown",
   "id": "0d2a633e",
   "metadata": {},
   "source": [
    "# Day 27: Model Deployment with Flask\n"
   ]
  },
  {
   "cell_type": "code",
   "execution_count": 1,
   "id": "088bc9ea",
   "metadata": {},
   "outputs": [
    {
     "name": "stdout",
     "output_type": "stream",
     "text": [
      "Epoch 1/10\n",
      "4/4 [==============================] - 2s 10ms/step - loss: 0.6995 - accuracy: 0.4200\n",
      "Epoch 2/10\n",
      "4/4 [==============================] - 0s 8ms/step - loss: 0.6915 - accuracy: 0.5000\n",
      "Epoch 3/10\n",
      "4/4 [==============================] - 0s 13ms/step - loss: 0.6897 - accuracy: 0.5400\n",
      "Epoch 4/10\n",
      "4/4 [==============================] - 0s 9ms/step - loss: 0.6872 - accuracy: 0.5500\n",
      "Epoch 5/10\n",
      "4/4 [==============================] - 0s 8ms/step - loss: 0.6858 - accuracy: 0.5400\n",
      "Epoch 6/10\n",
      "4/4 [==============================] - 0s 7ms/step - loss: 0.6851 - accuracy: 0.5500\n",
      "Epoch 7/10\n",
      "4/4 [==============================] - 0s 8ms/step - loss: 0.6841 - accuracy: 0.5500\n",
      "Epoch 8/10\n",
      "4/4 [==============================] - 0s 6ms/step - loss: 0.6834 - accuracy: 0.5400\n",
      "Epoch 9/10\n",
      "4/4 [==============================] - 0s 8ms/step - loss: 0.6828 - accuracy: 0.5500\n",
      "Epoch 10/10\n",
      "4/4 [==============================] - 0s 7ms/step - loss: 0.6821 - accuracy: 0.5500\n"
     ]
    },
    {
     "name": "stderr",
     "output_type": "stream",
     "text": [
      "C:\\Users\\USER\\anaconda3\\Lib\\site-packages\\keras\\src\\engine\\training.py:3000: UserWarning: You are saving your model as an HDF5 file via `model.save()`. This file format is considered legacy. We recommend using instead the native Keras format, e.g. `model.save('my_model.keras')`.\n",
      "  saving_api.save_model(\n"
     ]
    }
   ],
   "source": [
    "# Step 1: Train and Save the Model (for illustration)\n",
    "import tensorflow as tf\n",
    "from tensorflow.keras.models import Sequential\n",
    "from tensorflow.keras.layers import Dense\n",
    "\n",
    "# Create and train a simple model (e.g., for binary classification)\n",
    "model = Sequential([\n",
    "    Dense(64, activation='relu', input_shape=(10,)),\n",
    "    Dense(1, activation='sigmoid')\n",
    "])\n",
    "\n",
    "model.compile(optimizer='adam', loss='binary_crossentropy', metrics=['accuracy'])\n",
    "# Train the model (using some random data for illustration)\n",
    "import numpy as np\n",
    "X_train = np.random.rand(100, 10)\n",
    "y_train = np.random.randint(2, size=100)\n",
    "\n",
    "model.fit(X_train, y_train, epochs=10)\n",
    "\n",
    "# Save the trained model\n",
    "model.save('my_model.h5')\n"
   ]
  },
  {
   "cell_type": "code",
   "execution_count": 2,
   "id": "d9b43ff6",
   "metadata": {},
   "outputs": [
    {
     "name": "stdout",
     "output_type": "stream",
     "text": [
      " * Serving Flask app '__main__'\n",
      " * Debug mode: on\n"
     ]
    },
    {
     "name": "stderr",
     "output_type": "stream",
     "text": [
      "WARNING: This is a development server. Do not use it in a production deployment. Use a production WSGI server instead.\n",
      " * Running on http://127.0.0.1:5000\n",
      "Press CTRL+C to quit\n",
      " * Restarting with watchdog (windowsapi)\n"
     ]
    },
    {
     "ename": "SystemExit",
     "evalue": "1",
     "output_type": "error",
     "traceback": [
      "An exception has occurred, use %tb to see the full traceback.\n",
      "\u001b[1;31mSystemExit\u001b[0m\u001b[1;31m:\u001b[0m 1\n"
     ]
    },
    {
     "name": "stderr",
     "output_type": "stream",
     "text": [
      "C:\\Users\\USER\\anaconda3\\Lib\\site-packages\\IPython\\core\\interactiveshell.py:3534: UserWarning: To exit: use 'exit', 'quit', or Ctrl-D.\n",
      "  warn(\"To exit: use 'exit', 'quit', or Ctrl-D.\", stacklevel=1)\n"
     ]
    }
   ],
   "source": [
    "# Step 2: Create a Flask API for the Model\n",
    "from flask import Flask, request, jsonify\n",
    "import tensorflow as tf\n",
    "import numpy as np\n",
    "\n",
    "# Load the pre-trained model\n",
    "model = tf.keras.models.load_model('my_model.h5')\n",
    "\n",
    "# Create a Flask app\n",
    "app = Flask(__name__)\n",
    "\n",
    "# Define an endpoint to receive data and return predictions\n",
    "@app.route('/predict', methods=['POST'])\n",
    "def predict():\n",
    "    try:\n",
    "        # Get JSON data from the request\n",
    "        data = request.get_json()\n",
    "        \n",
    "        # Extract features from the data (for example, a 10-dimensional input)\n",
    "        features = np.array(data['features']).reshape(1, -1)\n",
    "        \n",
    "        # Make a prediction using the model\n",
    "        prediction = model.predict(features)\n",
    "        \n",
    "        # Return the prediction as a JSON response\n",
    "        return jsonify({'prediction': prediction[0][0]})\n",
    "    except Exception as e:\n",
    "        return jsonify({'error': str(e)}), 400\n",
    "\n",
    "# Run the Flask app\n",
    "if __name__ == '__main__':\n",
    "    app.run(debug=True)\n"
   ]
  },
  {
   "cell_type": "code",
   "execution_count": null,
   "id": "15cf8a63",
   "metadata": {},
   "outputs": [],
   "source": [
    "# Step 3: Sending Requests to the Flask API\n",
    "import requests\n",
    "import json\n",
    "\n",
    "url = 'http://127.0.0.1:5000/predict'\n",
    "data = {\n",
    "    'features': [0.1, 0.2, 0.3, 0.4, 0.5, 0.6, 0.7, 0.8, 0.9, 1.0]  # Example features\n",
    "}\n",
    "\n",
    "response = requests.post(url, json=data)\n",
    "prediction = response.json()\n",
    "print(prediction)\n"
   ]
  },
  {
   "cell_type": "markdown",
   "id": "a604b807",
   "metadata": {},
   "source": [
    "1. Explanation of Model Deployment with Flask\n",
    "Model deployment refers to the process of taking a trained machine learning model and making it available for use by other applications or users. One common way to deploy a machine learning model is by exposing it as a web service, where users can send data (e.g., images, text, or numbers) and get predictions in return.\n",
    "\n",
    "Flask is a popular Python web framework that can be used for creating such web services. Using Flask, we can wrap our model inside an API (application programming interface) and deploy it on a web server. This allows users to interact with the model by sending HTTP requests (such as POST requests) and receiving the model’s predictions.\n",
    "\n",
    "Steps Involved in Deployment:\n",
    "Train the Model: We first need a trained model (this can be a classification, regression, or any other type of model).\n",
    "Create a Flask API: Using Flask, we create an API endpoint that receives input data, runs the data through the model, and returns the predictions.\n",
    "Run the Flask App: We run the Flask application locally or deploy it on a server (e.g., Heroku, AWS, or Google Cloud).\n",
    "2. Importance of Model Deployment\n",
    "Model deployment is crucial because:\n",
    "\n",
    "Real-Time Predictions: It allows us to make predictions on new data in real time, as users can interact with the model through an API.\n",
    "Scalability: Once the model is deployed, multiple users can interact with it concurrently, making it scalable.\n",
    "Accessibility: Deployment makes machine learning models accessible for integration with other applications, such as web apps or mobile apps.\n",
    "\n",
    "#100DaysOfCodeDay27 #ModelDeployment #FlaskAPI #MachineLearning"
   ]
  }
 ],
 "metadata": {
  "kernelspec": {
   "display_name": "Python 3 (ipykernel)",
   "language": "python",
   "name": "python3"
  },
  "language_info": {
   "codemirror_mode": {
    "name": "ipython",
    "version": 3
   },
   "file_extension": ".py",
   "mimetype": "text/x-python",
   "name": "python",
   "nbconvert_exporter": "python",
   "pygments_lexer": "ipython3",
   "version": "3.11.5"
  }
 },
 "nbformat": 4,
 "nbformat_minor": 5
}
