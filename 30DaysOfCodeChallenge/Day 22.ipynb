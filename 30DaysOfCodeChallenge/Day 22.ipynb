{
 "cells": [
  {
   "cell_type": "markdown",
   "id": "e65468a5",
   "metadata": {},
   "source": [
    "# Day22: Explanation of Recommendation Systems"
   ]
  },
  {
   "cell_type": "code",
   "execution_count": 1,
   "id": "d084454e",
   "metadata": {},
   "outputs": [
    {
     "name": "stdout",
     "output_type": "stream",
     "text": [
      "Recommended items for 'Item1':\n",
      "Item5    0.690476\n",
      "Item3    0.554257\n",
      "Name: Item1, dtype: float64\n"
     ]
    }
   ],
   "source": [
    "import numpy as np\n",
    "import pandas as pd\n",
    "from sklearn.metrics.pairwise import cosine_similarity\n",
    "\n",
    "# Sample user-item interaction data (ratings from 1 to 5)\n",
    "data = {\n",
    "    'Item1': [5, 4, 0, 1, 0],\n",
    "    'Item2': [3, 0, 0, 2, 4],\n",
    "    'Item3': [4, 0, 0, 3, 4],\n",
    "    'Item4': [0, 2, 0, 5, 0],\n",
    "    'Item5': [1, 5, 0, 4, 0]\n",
    "}\n",
    "\n",
    "# Convert to DataFrame\n",
    "df = pd.DataFrame(data, index=['User1', 'User2', 'User3', 'User4', 'User5'])\n",
    "\n",
    "# Calculate the cosine similarity between items\n",
    "cosine_sim = cosine_similarity(df.T)\n",
    "\n",
    "# Convert cosine similarity matrix to DataFrame for easier interpretation\n",
    "cosine_sim_df = pd.DataFrame(cosine_sim, index=df.columns, columns=df.columns)\n",
    "\n",
    "# Function to recommend items based on a given item\n",
    "def recommend_items(item, num_recommendations=2):\n",
    "    similar_items = cosine_sim_df[item].sort_values(ascending=False)\n",
    "    recommended_items = similar_items.iloc[1:num_recommendations+1]\n",
    "    return recommended_items\n",
    "\n",
    "# Example: Recommend items similar to 'Item1'\n",
    "print(\"Recommended items for 'Item1':\")\n",
    "print(recommend_items('Item1'))\n"
   ]
  },
  {
   "cell_type": "markdown",
   "id": "ff4e3171",
   "metadata": {},
   "source": [
    "Day 22: Recommendation Systems\n",
    "A Recommendation System is a type of algorithm used to predict the most relevant items for a user based on historical data. Recommendation systems are widely used in platforms like Netflix, Amazon, and Spotify to suggest content or products to users.\n",
    "\n",
    "There are three main types of recommendation systems:\n",
    "\n",
    "Collaborative Filtering: This method makes predictions based on past interactions (user-item interactions). It can be further divided into:\n",
    "\n",
    "User-based Collaborative Filtering: Recommends items based on the similarity between users.\n",
    "Item-based Collaborative Filtering: Recommends items similar to those the user has interacted with.\n",
    "Content-Based Filtering: Recommends items similar to those the user has shown interest in, based on item attributes.\n",
    "\n",
    "Hybrid Methods: Combines both collaborative and content-based filtering.\n",
    "\n",
    "For simplicity, let's focus on Collaborative Filtering, specifically Item-based Collaborative Filtering, where we recommend items based on similarity to items the user has liked or interacted with.\n",
    "\n",
    " Importance of Recommendation Systems\n",
    "Recommendation systems are crucial for:\n",
    "\n",
    "- User Experience: They help users discover relevant items they may not have found on their own, improving engagement and satisfaction.\n",
    "- Personalization: They provide a personalized experience based on individual preferences, increasing user retention.\n",
    "- Business Growth: For e-commerce or streaming platforms, recommendation systems drive sales and user engagement by suggesting products or content that the user is likely to purchase or watch.\n",
    "\n",
    "#30DaysOfCodeDay22 #RecommendationSystem #MachineLearning\n"
   ]
  },
  {
   "cell_type": "code",
   "execution_count": null,
   "id": "23dfce6e",
   "metadata": {},
   "outputs": [],
   "source": []
  }
 ],
 "metadata": {
  "kernelspec": {
   "display_name": "Python 3 (ipykernel)",
   "language": "python",
   "name": "python3"
  },
  "language_info": {
   "codemirror_mode": {
    "name": "ipython",
    "version": 3
   },
   "file_extension": ".py",
   "mimetype": "text/x-python",
   "name": "python",
   "nbconvert_exporter": "python",
   "pygments_lexer": "ipython3",
   "version": "3.11.5"
  }
 },
 "nbformat": 4,
 "nbformat_minor": 5
}
