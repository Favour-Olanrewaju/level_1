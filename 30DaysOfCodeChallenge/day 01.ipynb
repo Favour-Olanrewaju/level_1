{
 "cells": [
  {
   "cell_type": "markdown",
   "id": "8a83bfbc",
   "metadata": {},
   "source": [
    "# Day 1: Python Basics for Data Science\n",
    "\n",
    "Today’s Focus: Building a strong foundation with NumPy for handling data efficiently."
   ]
  },
  {
   "cell_type": "code",
   "execution_count": 1,
   "id": "e98fe06d",
   "metadata": {},
   "outputs": [
    {
     "name": "stdout",
     "output_type": "stream",
     "text": [
      "Array:\n",
      " [[1 2 3]\n",
      " [4 5 6]] \n",
      "\n",
      "Shape: (2, 3)\n",
      "Size: 6\n",
      "Reshaped:\n",
      " [[1 2]\n",
      " [3 4]\n",
      " [5 6]]\n"
     ]
    }
   ],
   "source": [
    "import numpy as np\n",
    "\n",
    "# creating an array\n",
    "arr = np.array([[1,2,3],[4,5,6]])\n",
    "print(\"Array:\\n\", arr, '\\n')\n",
    "\n",
    "# shape and size\n",
    "print(\"Shape:\", arr.shape)\n",
    "print(\"Size:\", arr.size)\n",
    "\n",
    "# Reshape\n",
    "reshaped = arr.reshape(3, 2)\n",
    "print(\"Reshaped:\\n\", reshaped)"
   ]
  },
  {
   "cell_type": "code",
   "execution_count": 2,
   "id": "4864aefd",
   "metadata": {},
   "outputs": [
    {
     "name": "stdout",
     "output_type": "stream",
     "text": [
      "Sum: 21\n",
      "Mean: 3.5\n",
      "Standard Deviation: 1.707825127659933\n"
     ]
    }
   ],
   "source": [
    "# Mathematical Operations\n",
    "# Basic operations\n",
    "print(\"Sum:\", arr.sum())\n",
    "print(\"Mean:\", arr.mean())\n",
    "print(\"Standard Deviation:\", arr.std())"
   ]
  },
  {
   "cell_type": "code",
   "execution_count": 3,
   "id": "5da311ef",
   "metadata": {},
   "outputs": [
    {
     "name": "stdout",
     "output_type": "stream",
     "text": [
      "Dot Product:\n",
      " [[19 22]\n",
      " [43 50]]\n",
      "Transpose:\n",
      " [[1 3]\n",
      " [2 4]]\n"
     ]
    }
   ],
   "source": [
    "# Dot product\n",
    "a = np.array([[1, 2], [3, 4]])\n",
    "b = np.array([[5, 6], [7, 8]])\n",
    "\n",
    "result = np.dot(a, b)\n",
    "print(\"Dot Product:\\n\", result)\n",
    "\n",
    "# Transpose\n",
    "print(\"Transpose:\\n\", a.T)\n"
   ]
  },
  {
   "cell_type": "code",
   "execution_count": 4,
   "id": "7d6f0397",
   "metadata": {},
   "outputs": [
    {
     "name": "stdout",
     "output_type": "stream",
     "text": [
      "Features:\n",
      " [[0.37454012 0.95071431 0.73199394]\n",
      " [0.59865848 0.15601864 0.15599452]\n",
      " [0.05808361 0.86617615 0.60111501]\n",
      " [0.70807258 0.02058449 0.96990985]\n",
      " [0.83244264 0.21233911 0.18182497]]\n",
      "Labels:\n",
      " [0 1 1 1 0]\n"
     ]
    }
   ],
   "source": [
    "np.random.seed(42)\n",
    "X = np.random.rand(100, 3)  # 100 samples, 3 features\n",
    "y = np.random.randint(0, 2, size=100)  # Binary labels (0 or 1)\n",
    "\n",
    "print(\"Features:\\n\", X[:5])  # Display first 5 samples\n",
    "print(\"Labels:\\n\", y[:5])"
   ]
  },
  {
   "cell_type": "code",
   "execution_count": null,
   "id": "5d43b001",
   "metadata": {},
   "outputs": [],
   "source": []
  }
 ],
 "metadata": {
  "kernelspec": {
   "display_name": "Python 3 (ipykernel)",
   "language": "python",
   "name": "python3"
  },
  "language_info": {
   "codemirror_mode": {
    "name": "ipython",
    "version": 3
   },
   "file_extension": ".py",
   "mimetype": "text/x-python",
   "name": "python",
   "nbconvert_exporter": "python",
   "pygments_lexer": "ipython3",
   "version": "3.11.5"
  }
 },
 "nbformat": 4,
 "nbformat_minor": 5
}
