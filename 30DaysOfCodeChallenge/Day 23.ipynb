{
 "cells": [
  {
   "cell_type": "code",
   "execution_count": null,
   "id": "d64c89dd",
   "metadata": {},
   "outputs": [],
   "source": []
  },
  {
   "cell_type": "code",
   "execution_count": 1,
   "id": "1ae69de5",
   "metadata": {
    "scrolled": false
   },
   "outputs": [
    {
     "name": "stdout",
     "output_type": "stream",
     "text": [
      "Epoch 1/10\n",
      "22/22 [==============================] - 3s 5ms/step - loss: 0.5810 - accuracy: 0.7414\n",
      "Epoch 2/10\n",
      "22/22 [==============================] - 0s 5ms/step - loss: 0.4708 - accuracy: 0.8157\n",
      "Epoch 3/10\n",
      "22/22 [==============================] - 0s 4ms/step - loss: 0.3933 - accuracy: 0.8557\n",
      "Epoch 4/10\n",
      "22/22 [==============================] - 0s 6ms/step - loss: 0.3438 - accuracy: 0.8814\n",
      "Epoch 5/10\n",
      "22/22 [==============================] - 0s 6ms/step - loss: 0.3107 - accuracy: 0.8871\n",
      "Epoch 6/10\n",
      "22/22 [==============================] - 0s 6ms/step - loss: 0.2900 - accuracy: 0.8971\n",
      "Epoch 7/10\n",
      "22/22 [==============================] - 0s 5ms/step - loss: 0.2751 - accuracy: 0.8957\n",
      "Epoch 8/10\n",
      "22/22 [==============================] - 0s 6ms/step - loss: 0.2636 - accuracy: 0.9057\n",
      "Epoch 9/10\n",
      "22/22 [==============================] - 0s 5ms/step - loss: 0.2522 - accuracy: 0.9071\n",
      "Epoch 10/10\n",
      "22/22 [==============================] - 0s 6ms/step - loss: 0.2430 - accuracy: 0.9129\n",
      "10/10 [==============================] - 1s 4ms/step - loss: 0.3795 - accuracy: 0.8367\n",
      "Test Accuracy: 83.67%\n"
     ]
    }
   ],
   "source": [
    "import numpy as np\n",
    "from keras.models import Sequential\n",
    "from keras.layers import Dense\n",
    "from sklearn.model_selection import train_test_split\n",
    "from sklearn.datasets import make_classification\n",
    "from sklearn.preprocessing import StandardScaler\n",
    "\n",
    "# Generate a simple binary classification dataset\n",
    "X, y = make_classification(n_samples=1000, n_features=20, n_classes=2, random_state=42)\n",
    "\n",
    "# Split the data into training and testing sets\n",
    "X_train, X_test, y_train, y_test = train_test_split(X, y, test_size=0.3, random_state=42)\n",
    "\n",
    "# Standardize the features (important for neural networks)\n",
    "scaler = StandardScaler()\n",
    "X_train = scaler.fit_transform(X_train)\n",
    "X_test = scaler.transform(X_test)\n",
    "\n",
    "# Build a simple neural network model\n",
    "model = Sequential()\n",
    "model.add(Dense(64, input_dim=X_train.shape[1], activation='relu'))  # Input layer and first hidden layer\n",
    "model.add(Dense(32, activation='relu'))  # Second hidden layer\n",
    "model.add(Dense(1, activation='sigmoid'))  # Output layer\n",
    "\n",
    "# Compile the model\n",
    "model.compile(loss='binary_crossentropy', optimizer='adam', metrics=['accuracy'])\n",
    "\n",
    "# Train the model\n",
    "model.fit(X_train, y_train, epochs=10, batch_size=32)\n",
    "\n",
    "# Evaluate the model\n",
    "loss, accuracy = model.evaluate(X_test, y_test)\n",
    "print(f\"Test Accuracy: {accuracy*100:.2f}%\")\n"
   ]
  },
  {
   "cell_type": "code",
   "execution_count": 2,
   "id": "b6472e04",
   "metadata": {},
   "outputs": [
    {
     "name": "stdout",
     "output_type": "stream",
     "text": [
      "Note: you may need to restart the kernel to use updated packages.\n"
     ]
    },
    {
     "name": "stderr",
     "output_type": "stream",
     "text": [
      "WARNING: Retrying (Retry(total=4, connect=None, read=None, redirect=None, status=None)) after connection broken by 'ReadTimeoutError(\"HTTPSConnectionPool(host='pypi.org', port=443): Read timed out. (read timeout=15)\")': /simple/tensorflow/\n",
      "WARNING: Retrying (Retry(total=3, connect=None, read=None, redirect=None, status=None)) after connection broken by 'ReadTimeoutError(\"HTTPSConnectionPool(host='pypi.org', port=443): Read timed out. (read timeout=15)\")': /simple/tensorflow/\n",
      "WARNING: Retrying (Retry(total=2, connect=None, read=None, redirect=None, status=None)) after connection broken by 'ReadTimeoutError(\"HTTPSConnectionPool(host='pypi.org', port=443): Read timed out. (read timeout=15)\")': /simple/tensorflow/\n",
      "WARNING: Retrying (Retry(total=1, connect=None, read=None, redirect=None, status=None)) after connection broken by 'ReadTimeoutError(\"HTTPSConnectionPool(host='pypi.org', port=443): Read timed out. (read timeout=15)\")': /simple/tensorflow/\n",
      "ERROR: Could not find a version that satisfies the requirement tensorflow (from versions: none)\n",
      "ERROR: No matching distribution found for tensorflow\n"
     ]
    }
   ],
   "source": [
    "# pip install tensor"
   ]
  },
  {
   "cell_type": "markdown",
   "id": "77d0fe34",
   "metadata": {},
   "source": [
    "1. Explanation of Neural Networks (NN)\n",
    "A Neural Network (NN) is a computational model inspired by the way biological neural networks in the brain process information. It consists of interconnected layers of nodes, or \"neurons,\" that work together to recognize patterns in data and make predictions. NNs are the foundation of many advanced machine learning algorithms, including deep learning.\n",
    "\n",
    "Basic Structure of a Neural Network:\n",
    "Input Layer: The first layer where the input data is fed into the model. Each neuron in this layer represents a feature in the data.\n",
    "Hidden Layers: Intermediate layers between the input and output layers where computations are performed. Each neuron processes weighted inputs, applies an activation function, and passes the result to the next layer.\n",
    "Output Layer: The final layer that provides the predictions based on the processed data.\n",
    "Weights and Biases: Each connection between neurons has an associated weight, which determines the importance of the input. Biases are added to the weighted inputs to adjust the output.\n",
    "Activation Functions:\n",
    "Sigmoid: Outputs a value between 0 and 1. Commonly used in binary classification.\n",
    "ReLU (Rectified Linear Unit): Outputs 0 if the input is negative and the input itself if positive. It is widely used in hidden layers.\n",
    "Softmax: Outputs probabilities for multiclass classification problems.\n",
    "How Neural Networks Learn:\n",
    "Neural networks learn through a process called backpropagation, where the error (or loss) from the model’s predictions is propagated backward through the network to adjust the weights and biases. This is typically done using an optimization technique like Gradient Descent.\n",
    "\n",
    "2. Importance of Neural Networks in Machine Learning\n",
    "Neural Networks are powerful tools for:\n",
    "\n",
    "Non-linear Relationships: They can learn complex patterns and non-linear relationships in data, which makes them ideal for tasks like image recognition, speech processing, and natural language understanding.\n",
    "Flexibility: Neural networks can be applied to a wide range of problems, from classification to regression, and are the backbone of deep learning techniques used in AI.\n",
    "Improved Accuracy: With enough data and computational power, neural networks can often outperform traditional machine learning algorithms on complex tasks.\n",
    "\n",
    "\n",
    "\n",
    "#100DaysOfCodeDay23 #NeuralNetwork #MachineLearning"
   ]
  },
  {
   "cell_type": "code",
   "execution_count": null,
   "id": "bc099ff5",
   "metadata": {},
   "outputs": [],
   "source": []
  }
 ],
 "metadata": {
  "kernelspec": {
   "display_name": "Python 3 (ipykernel)",
   "language": "python",
   "name": "python3"
  },
  "language_info": {
   "codemirror_mode": {
    "name": "ipython",
    "version": 3
   },
   "file_extension": ".py",
   "mimetype": "text/x-python",
   "name": "python",
   "nbconvert_exporter": "python",
   "pygments_lexer": "ipython3",
   "version": "3.11.5"
  }
 },
 "nbformat": 4,
 "nbformat_minor": 5
}
