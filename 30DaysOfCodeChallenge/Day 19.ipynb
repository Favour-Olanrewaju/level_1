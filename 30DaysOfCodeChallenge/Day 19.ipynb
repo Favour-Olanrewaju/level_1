{
 "cells": [
  {
   "cell_type": "markdown",
   "id": "11122c12",
   "metadata": {},
   "source": [
    "# Day 19: Hyperparameter Tuning"
   ]
  },
  {
   "cell_type": "code",
   "execution_count": 2,
   "id": "d67f1625",
   "metadata": {},
   "outputs": [
    {
     "name": "stdout",
     "output_type": "stream",
     "text": [
      "Best hyperparameters: {'max_depth': None, 'min_samples_leaf': 1, 'min_samples_split': 2, 'n_estimators': 100}\n"
     ]
    }
   ],
   "source": [
    "import numpy as np\n",
    "from sklearn.datasets import load_iris\n",
    "from sklearn.model_selection import train_test_split\n",
    "from sklearn.ensemble import RandomForestClassifier\n",
    "from sklearn.model_selection import GridSearchCV\n",
    "from sklearn.metrics import accuracy_score\n",
    "\n",
    "# Load dataset\n",
    "data = load_iris()\n",
    "X = data.data\n",
    "y = data.target\n",
    "\n",
    "# Split data\n",
    "X_train, X_test, y_train, y_test = train_test_split(X, y, test_size=0.3, random_state=42)\n",
    "\n",
    "# Define the model\n",
    "rf = RandomForestClassifier(random_state=42)\n",
    "\n",
    "# Hyperparameter grid\n",
    "param_grid = {\n",
    "    'n_estimators': [50, 100, 200],\n",
    "    'max_depth': [None, 10, 20, 30],\n",
    "    'min_samples_split': [2, 5, 10],\n",
    "    'min_samples_leaf': [1, 2, 4]\n",
    "}\n",
    "\n",
    "# Perform GridSearchCV\n",
    "grid_search = GridSearchCV(estimator=rf, param_grid=param_grid, cv=5, n_jobs=-1)\n",
    "grid_search.fit(X_train, y_train)\n",
    "\n",
    "# Best parameters and model\n",
    "print(\"Best hyperparameters:\", grid_search.best_params_)\n",
    "\n",
    "# Evaluate the model\n",
    "best_rf = grid_search.best_estimator_\n",
    "y_pred = best_rf.predict(X_test)\n",
    "# print(\"Accuracy:\", accuracy_score(y_test, y_pred))\n"
   ]
  },
  {
   "cell_type": "markdown",
   "id": "5b7f63bd",
   "metadata": {},
   "source": [
    "Day 19: Hyperparameter Tuning\n",
    "\n",
    "In machine learning, hyperparameters are the parameters that are set before the learning process begins. They control aspects of the training process such as model complexity, training time, and learning rates, which can significantly impact the model's performance. Unlike model parameters (like weights in a neural network) that are learned from the data during training, hyperparameters are set prior to the model training and need to be optimized for the best model performance.\n",
    "\n",
    "Examples of Hyperparameters:\n",
    "Learning Rate: Controls how much to change the model in response to the estimated error each time the model weights are updated.\n",
    "Number of Trees (for Random Forest): The number of trees in the ensemble model.\n",
    "Max Depth (for Decision Trees): The maximum depth of the tree to prevent overfitting.\n",
    "Batch Size (for Neural Networks): Number of samples per gradient update in deep learning models.\n",
    "Regularization Strength (like L2): Controls overfitting by penalizing large coefficients.\n",
    "    \n",
    "Importance of Hyperparameter Tuning in ML\n",
    "Hyperparameter tuning is essential because it directly influences the model's ability to generalize well to unseen data. By optimizing these settings, you ensure the model has the best possible performance while avoiding underfitting or overfitting.\n",
    "\n",
    "Overfitting: If the model is too complex (too many trees, too deep a tree, too high a learning rate), it might learn noise from the training data and fail to generalize to new data.\n",
    "Underfitting: If the model is too simple (too few trees, shallow depth, too low a learning rate), it might not capture the underlying patterns in the data.\n",
    "Optimal hyperparameter tuning allows a model to perform at its best by striking a balance between bias and variance.\n",
    "\n",
    "#100DaysOfCodeDay19 #HyperparameterTuning #MachineLearning"
   ]
  },
  {
   "cell_type": "code",
   "execution_count": null,
   "id": "58af2c25",
   "metadata": {},
   "outputs": [],
   "source": []
  }
 ],
 "metadata": {
  "kernelspec": {
   "display_name": "Python 3 (ipykernel)",
   "language": "python",
   "name": "python3"
  },
  "language_info": {
   "codemirror_mode": {
    "name": "ipython",
    "version": 3
   },
   "file_extension": ".py",
   "mimetype": "text/x-python",
   "name": "python",
   "nbconvert_exporter": "python",
   "pygments_lexer": "ipython3",
   "version": "3.11.5"
  }
 },
 "nbformat": 4,
 "nbformat_minor": 5
}
