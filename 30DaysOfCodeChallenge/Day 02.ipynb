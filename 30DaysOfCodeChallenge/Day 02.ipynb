{
 "cells": [
  {
   "cell_type": "markdown",
   "id": "dfa20e69",
   "metadata": {},
   "source": [
    "# Data Handling with pandas"
   ]
  },
  {
   "cell_type": "code",
   "execution_count": 1,
   "id": "7a3477aa",
   "metadata": {},
   "outputs": [],
   "source": [
    "import numpy as np\n",
    "import pandas as pd"
   ]
  },
  {
   "cell_type": "code",
   "execution_count": 2,
   "id": "e4136d35",
   "metadata": {},
   "outputs": [
    {
     "name": "stdout",
     "output_type": "stream",
     "text": [
      "<class 'pandas.core.frame.DataFrame'>\n",
      "RangeIndex: 3176 entries, 0 to 3175\n",
      "Data columns (total 10 columns):\n",
      " #   Column        Non-Null Count  Dtype \n",
      "---  ------        --------------  ----- \n",
      " 0   title         3176 non-null   object\n",
      " 1   odometer      3176 non-null   int64 \n",
      " 2   location      3176 non-null   object\n",
      " 3   isimported    3176 non-null   object\n",
      " 4   engine        3176 non-null   object\n",
      " 5   transmission  3176 non-null   object\n",
      " 6   fuel          3176 non-null   object\n",
      " 7   paint         3176 non-null   object\n",
      " 8   price         3176 non-null   int64 \n",
      " 9   year          3176 non-null   int64 \n",
      "dtypes: int64(3), object(7)\n",
      "memory usage: 248.3+ KB\n"
     ]
    }
   ],
   "source": [
    "car_scrape = pd.read_csv(\"C:\\Datasets\\car_scrape4.csv\")\n",
    "car_scrape.info()"
   ]
  },
  {
   "cell_type": "code",
   "execution_count": 3,
   "id": "a56274e2",
   "metadata": {},
   "outputs": [
    {
     "data": {
      "text/html": [
       "<div>\n",
       "<style scoped>\n",
       "    .dataframe tbody tr th:only-of-type {\n",
       "        vertical-align: middle;\n",
       "    }\n",
       "\n",
       "    .dataframe tbody tr th {\n",
       "        vertical-align: top;\n",
       "    }\n",
       "\n",
       "    .dataframe thead th {\n",
       "        text-align: right;\n",
       "    }\n",
       "</style>\n",
       "<table border=\"1\" class=\"dataframe\">\n",
       "  <thead>\n",
       "    <tr style=\"text-align: right;\">\n",
       "      <th></th>\n",
       "      <th>title</th>\n",
       "      <th>odometer</th>\n",
       "      <th>location</th>\n",
       "      <th>isimported</th>\n",
       "      <th>engine</th>\n",
       "      <th>transmission</th>\n",
       "      <th>fuel</th>\n",
       "      <th>paint</th>\n",
       "      <th>price</th>\n",
       "      <th>year</th>\n",
       "    </tr>\n",
       "  </thead>\n",
       "  <tbody>\n",
       "    <tr>\n",
       "      <th>0</th>\n",
       "      <td>Toyota Corolla</td>\n",
       "      <td>60127</td>\n",
       "      <td>Lagos</td>\n",
       "      <td>Locally used</td>\n",
       "      <td>4-cylinder(I4)</td>\n",
       "      <td>automatic</td>\n",
       "      <td>petrol</td>\n",
       "      <td>Silver</td>\n",
       "      <td>1995000</td>\n",
       "      <td>2009</td>\n",
       "    </tr>\n",
       "    <tr>\n",
       "      <th>1</th>\n",
       "      <td>Acura MDX</td>\n",
       "      <td>132908</td>\n",
       "      <td>Lagos</td>\n",
       "      <td>Foreign Used</td>\n",
       "      <td>6-cylinder(V6)</td>\n",
       "      <td>automatic</td>\n",
       "      <td>petrol</td>\n",
       "      <td>Whine</td>\n",
       "      <td>3315000</td>\n",
       "      <td>2009</td>\n",
       "    </tr>\n",
       "    <tr>\n",
       "      <th>2</th>\n",
       "      <td>Lexus ES 350</td>\n",
       "      <td>120412</td>\n",
       "      <td>Lagos</td>\n",
       "      <td>Locally used</td>\n",
       "      <td>6-cylinder(V6)</td>\n",
       "      <td>automatic</td>\n",
       "      <td>petrol</td>\n",
       "      <td>Silver</td>\n",
       "      <td>2355000</td>\n",
       "      <td>2008</td>\n",
       "    </tr>\n",
       "    <tr>\n",
       "      <th>3</th>\n",
       "      <td>Mercedes-Benz GLK 350</td>\n",
       "      <td>67640</td>\n",
       "      <td>Lagos</td>\n",
       "      <td>Foreign Used</td>\n",
       "      <td>4-cylinder(I4)</td>\n",
       "      <td>automatic</td>\n",
       "      <td>petrol</td>\n",
       "      <td>Black</td>\n",
       "      <td>9915000</td>\n",
       "      <td>2013</td>\n",
       "    </tr>\n",
       "    <tr>\n",
       "      <th>4</th>\n",
       "      <td>Mercedes-Benz E 200</td>\n",
       "      <td>92440</td>\n",
       "      <td>Abuja</td>\n",
       "      <td>Foreign Used</td>\n",
       "      <td>4-cylinder(I4)</td>\n",
       "      <td>automatic</td>\n",
       "      <td>petrol</td>\n",
       "      <td>Black</td>\n",
       "      <td>9790000</td>\n",
       "      <td>2013</td>\n",
       "    </tr>\n",
       "  </tbody>\n",
       "</table>\n",
       "</div>"
      ],
      "text/plain": [
       "                   title  odometer location    isimported          engine  \\\n",
       "0         Toyota Corolla     60127    Lagos  Locally used  4-cylinder(I4)   \n",
       "1              Acura MDX    132908    Lagos  Foreign Used  6-cylinder(V6)   \n",
       "2           Lexus ES 350    120412    Lagos  Locally used  6-cylinder(V6)   \n",
       "3  Mercedes-Benz GLK 350     67640    Lagos  Foreign Used  4-cylinder(I4)   \n",
       "4    Mercedes-Benz E 200     92440    Abuja  Foreign Used  4-cylinder(I4)   \n",
       "\n",
       "  transmission    fuel   paint    price  year  \n",
       "0    automatic  petrol  Silver  1995000  2009  \n",
       "1    automatic  petrol  Whine   3315000  2009  \n",
       "2    automatic  petrol  Silver  2355000  2008  \n",
       "3    automatic  petrol   Black  9915000  2013  \n",
       "4    automatic  petrol   Black  9790000  2013  "
      ]
     },
     "execution_count": 3,
     "metadata": {},
     "output_type": "execute_result"
    }
   ],
   "source": [
    "# head of the dataset\n",
    "car_scrape.head()"
   ]
  },
  {
   "cell_type": "code",
   "execution_count": 6,
   "id": "9d17b98e",
   "metadata": {},
   "outputs": [
    {
     "name": "stdout",
     "output_type": "stream",
     "text": [
      "shape: (3176, 10)\n"
     ]
    },
    {
     "data": {
      "text/plain": [
       "title           False\n",
       "odometer        False\n",
       "location        False\n",
       "isimported      False\n",
       "engine          False\n",
       "transmission    False\n",
       "fuel            False\n",
       "paint           False\n",
       "price           False\n",
       "year            False\n",
       "dtype: bool"
      ]
     },
     "execution_count": 6,
     "metadata": {},
     "output_type": "execute_result"
    }
   ],
   "source": [
    "# shape of the dataset\n",
    "print('shape:', car_scrape.shape)\n",
    "\n",
    "# checking for missing value\n",
    "car_scrape[car_scrape.isnull()].any()"
   ]
  },
  {
   "cell_type": "code",
   "execution_count": 8,
   "id": "d528f149",
   "metadata": {},
   "outputs": [
    {
     "data": {
      "text/plain": [
       "title\n",
       "Toyota Camry           401\n",
       "Toyota Corolla         342\n",
       "Toyota Highlander      178\n",
       "Toyota Sienna          170\n",
       "Toyota RAV 4           128\n",
       "                      ... \n",
       "ALPINA B3                2\n",
       "Audi S6                  2\n",
       "Mercedes-Benz/52         2\n",
       "Man 26-403               2\n",
       "Mercedes-Benz S 450      2\n",
       "Name: count, Length: 240, dtype: int64"
      ]
     },
     "execution_count": 8,
     "metadata": {},
     "output_type": "execute_result"
    }
   ],
   "source": [
    "#cars value ccount \n",
    "car_scrape[\"title\"].value_counts()"
   ]
  },
  {
   "cell_type": "code",
   "execution_count": 9,
   "id": "06eb4304",
   "metadata": {},
   "outputs": [
    {
     "name": "stdout",
     "output_type": "stream",
     "text": [
      "['Locally used' 'Foreign Used' 'New ']\n"
     ]
    },
    {
     "data": {
      "text/plain": [
       "isimported\n",
       "Foreign Used    2306\n",
       "Locally used     782\n",
       "New               88\n",
       "Name: count, dtype: int64"
      ]
     },
     "execution_count": 9,
     "metadata": {},
     "output_type": "execute_result"
    }
   ],
   "source": [
    "# how many is foreign used, local used and new\n",
    "print(car_scrape[\"isimported\"].unique())\n",
    "\n",
    "car_scrape[\"isimported\"].value_counts()"
   ]
  },
  {
   "cell_type": "code",
   "execution_count": 10,
   "id": "4444a6f2",
   "metadata": {},
   "outputs": [
    {
     "data": {
      "text/plain": [
       "engine\n",
       "4-cylinder(I4)      1935\n",
       "6-cylinder(V6)       686\n",
       "6-cylinder(I6)       369\n",
       "8-cylinder(V8)       158\n",
       "3-cylinder(I3)         9\n",
       "5-cylinder(I5)         7\n",
       "4-cylinder(H4)         5\n",
       "2-cylinder(I2)         4\n",
       "12-cylinder(V12)       3\n",
       "Name: count, dtype: int64"
      ]
     },
     "execution_count": 10,
     "metadata": {},
     "output_type": "execute_result"
    }
   ],
   "source": [
    "# classify them base on engine\n",
    "car_scrape['engine'].value_counts()"
   ]
  },
  {
   "cell_type": "code",
   "execution_count": 11,
   "id": "80e65f64",
   "metadata": {},
   "outputs": [
    {
     "data": {
      "text/html": [
       "<div>\n",
       "<style scoped>\n",
       "    .dataframe tbody tr th:only-of-type {\n",
       "        vertical-align: middle;\n",
       "    }\n",
       "\n",
       "    .dataframe tbody tr th {\n",
       "        vertical-align: top;\n",
       "    }\n",
       "\n",
       "    .dataframe thead th {\n",
       "        text-align: right;\n",
       "    }\n",
       "</style>\n",
       "<table border=\"1\" class=\"dataframe\">\n",
       "  <thead>\n",
       "    <tr style=\"text-align: right;\">\n",
       "      <th>transmission</th>\n",
       "      <th>automatic</th>\n",
       "      <th>manual</th>\n",
       "    </tr>\n",
       "    <tr>\n",
       "      <th>location</th>\n",
       "      <th></th>\n",
       "      <th></th>\n",
       "    </tr>\n",
       "  </thead>\n",
       "  <tbody>\n",
       "    <tr>\n",
       "      <th>Abia</th>\n",
       "      <td>7.0</td>\n",
       "      <td>0.0</td>\n",
       "    </tr>\n",
       "    <tr>\n",
       "      <th>Abuja</th>\n",
       "      <td>440.0</td>\n",
       "      <td>18.0</td>\n",
       "    </tr>\n",
       "    <tr>\n",
       "      <th>Abuja</th>\n",
       "      <td>4.0</td>\n",
       "      <td>0.0</td>\n",
       "    </tr>\n",
       "    <tr>\n",
       "      <th>Accra</th>\n",
       "      <td>2.0</td>\n",
       "      <td>0.0</td>\n",
       "    </tr>\n",
       "    <tr>\n",
       "      <th>Adamawa</th>\n",
       "      <td>3.0</td>\n",
       "      <td>0.0</td>\n",
       "    </tr>\n",
       "    <tr>\n",
       "      <th>Lagos</th>\n",
       "      <td>2329.0</td>\n",
       "      <td>202.0</td>\n",
       "    </tr>\n",
       "    <tr>\n",
       "      <th>Lagos</th>\n",
       "      <td>73.0</td>\n",
       "      <td>0.0</td>\n",
       "    </tr>\n",
       "    <tr>\n",
       "      <th>Ogun</th>\n",
       "      <td>74.0</td>\n",
       "      <td>13.0</td>\n",
       "    </tr>\n",
       "    <tr>\n",
       "      <th>other</th>\n",
       "      <td>11.0</td>\n",
       "      <td>0.0</td>\n",
       "    </tr>\n",
       "  </tbody>\n",
       "</table>\n",
       "</div>"
      ],
      "text/plain": [
       "transmission  automatic  manual\n",
       "location                       \n",
       "Abia                7.0     0.0\n",
       "Abuja             440.0    18.0\n",
       "Abuja               4.0     0.0\n",
       "Accra               2.0     0.0\n",
       "Adamawa             3.0     0.0\n",
       "Lagos            2329.0   202.0\n",
       "Lagos              73.0     0.0\n",
       "Ogun               74.0    13.0\n",
       "other              11.0     0.0"
      ]
     },
     "execution_count": 11,
     "metadata": {},
     "output_type": "execute_result"
    }
   ],
   "source": [
    "car_scrape.groupby('location')['transmission'].value_counts().unstack().fillna(0)"
   ]
  },
  {
   "cell_type": "code",
   "execution_count": null,
   "id": "1875cc93",
   "metadata": {},
   "outputs": [],
   "source": []
  }
 ],
 "metadata": {
  "kernelspec": {
   "display_name": "Python 3 (ipykernel)",
   "language": "python",
   "name": "python3"
  },
  "language_info": {
   "codemirror_mode": {
    "name": "ipython",
    "version": 3
   },
   "file_extension": ".py",
   "mimetype": "text/x-python",
   "name": "python",
   "nbconvert_exporter": "python",
   "pygments_lexer": "ipython3",
   "version": "3.11.5"
  }
 },
 "nbformat": 4,
 "nbformat_minor": 5
}
